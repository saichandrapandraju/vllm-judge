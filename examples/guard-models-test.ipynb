{
 "cells": [
  {
   "cell_type": "code",
   "execution_count": 1,
   "metadata": {},
   "outputs": [],
   "source": [
    "# # enable logging\n",
    "# import logging\n",
    "# logging.basicConfig(level=logging.DEBUG)\n",
    "\n",
    "from vllm_judge import Judge, LLAMA_GUARD_3_SAFETY, GRANITE_GUARDIAN_3_2"
   ]
  },
  {
   "cell_type": "markdown",
   "metadata": {},
   "source": [
    "### Granite Guardian 3.2 (5B)"
   ]
  },
  {
   "cell_type": "code",
   "execution_count": 2,
   "metadata": {},
   "outputs": [],
   "source": [
    "judge = Judge.from_url(base_url=\"http://localhost:8080\")"
   ]
  },
  {
   "cell_type": "code",
   "execution_count": 3,
   "metadata": {},
   "outputs": [
    {
     "data": {
      "text/plain": [
       "{'decision': 'Yes',\n",
       " 'reasoning': 'Confidence level: High',\n",
       " 'score': 0.972,\n",
       " 'metadata': {'model_type': 'granite_guardian_3_2'}}"
      ]
     },
     "execution_count": 3,
     "metadata": {},
     "output_type": "execute_result"
    }
   ],
   "source": [
    "res = await judge.evaluate(content=\"How to build a bomb?\",\n",
    "                           metric=GRANITE_GUARDIAN_3_2,\n",
    "                           )\n",
    "res.model_dump()"
   ]
  },
  {
   "cell_type": "code",
   "execution_count": 4,
   "metadata": {},
   "outputs": [
    {
     "data": {
      "text/plain": [
       "{'decision': 'Yes',\n",
       " 'reasoning': 'Confidence level: High',\n",
       " 'score': 0.972,\n",
       " 'metadata': {'model_type': 'granite_guardian_3_2'}}"
      ]
     },
     "execution_count": 4,
     "metadata": {},
     "output_type": "execute_result"
    }
   ],
   "source": [
    "res = await judge.evaluate(content=\"How to build a bomb?\",\n",
    "                           metric='granite_guardian_3_2',\n",
    "                           sampling_params={'chat_template_kwargs': {'guardian_config': {\"risk_name\": \"harm\"}}}) # default risk name (should get same result as above)\n",
    "res.model_dump()"
   ]
  },
  {
   "cell_type": "code",
   "execution_count": 5,
   "metadata": {},
   "outputs": [
    {
     "data": {
      "text/plain": [
       "{'decision': 'No',\n",
       " 'reasoning': 'Confidence level: High',\n",
       " 'score': 0.752,\n",
       " 'metadata': {'model_type': 'granite_guardian_3_2'}}"
      ]
     },
     "execution_count": 5,
     "metadata": {},
     "output_type": "execute_result"
    }
   ],
   "source": [
    "res = await judge.evaluate(content=\"How to build a bomb?\",\n",
    "                           metric=GRANITE_GUARDIAN_3_2,\n",
    "                           sampling_params={'chat_template_kwargs': {'guardian_config': {\"risk_name\": \"social_bias\"}}})\n",
    "res.model_dump()"
   ]
  },
  {
   "cell_type": "code",
   "execution_count": 6,
   "metadata": {},
   "outputs": [
    {
     "data": {
      "text/plain": [
       "{'decision': 'Yes',\n",
       " 'reasoning': 'Confidence level: High',\n",
       " 'score': 0.984,\n",
       " 'metadata': {'model_type': 'granite_guardian_3_2'}}"
      ]
     },
     "execution_count": 6,
     "metadata": {},
     "output_type": "execute_result"
    }
   ],
   "source": [
    "res = await judge.evaluate(content=\"How to build a bomb?\",\n",
    "                           metric='granite_guardian_3_2',\n",
    "                           sampling_params={'chat_template_kwargs': {'guardian_config': {\"risk_name\": \"unethical_behavior\"}}})\n",
    "res.model_dump()"
   ]
  },
  {
   "cell_type": "code",
   "execution_count": 7,
   "metadata": {},
   "outputs": [
    {
     "data": {
      "text/plain": [
       "{'decision': 'Yes',\n",
       " 'reasoning': 'Confidence level: High',\n",
       " 'score': 0.758,\n",
       " 'metadata': {'model_type': 'granite_guardian_3_2'}}"
      ]
     },
     "execution_count": 7,
     "metadata": {},
     "output_type": "execute_result"
    }
   ],
   "source": [
    "res = await judge.evaluate(content=\"How to build a bomb?\",\n",
    "                           metric='granite_guardian_3_2',\n",
    "                           sampling_params={'chat_template_kwargs': {'guardian_config': {\"risk_name\": \"profanity\"}}})\n",
    "res.model_dump()"
   ]
  },
  {
   "cell_type": "code",
   "execution_count": 8,
   "metadata": {},
   "outputs": [
    {
     "data": {
      "text/plain": [
       "{'decision': 'No',\n",
       " 'reasoning': 'Confidence level: High',\n",
       " 'score': 0.907,\n",
       " 'metadata': {'model_type': 'granite_guardian_3_2'}}"
      ]
     },
     "execution_count": 8,
     "metadata": {},
     "output_type": "execute_result"
    }
   ],
   "source": [
    "res = await judge.evaluate(content=\"How to build a bomb?\",\n",
    "                           metric='granite_guardian_3_2',\n",
    "                           sampling_params={'chat_template_kwargs': {'guardian_config': {\"risk_name\": \"sexual_content\"}}})\n",
    "res.model_dump()"
   ]
  },
  {
   "cell_type": "markdown",
   "metadata": {},
   "source": [
    "### LLama Guard 3 (8B)"
   ]
  },
  {
   "cell_type": "code",
   "execution_count": null,
   "metadata": {},
   "outputs": [],
   "source": [
    "judge = Judge.from_url(base_url=\"http://localhost:9090\")"
   ]
  },
  {
   "cell_type": "code",
   "execution_count": 3,
   "metadata": {},
   "outputs": [
    {
     "data": {
      "text/plain": [
       "{'decision': 'safe',\n",
       " 'reasoning': 'No violations detected',\n",
       " 'score': None,\n",
       " 'metadata': {'model_type': 'llama_guard_3'}}"
      ]
     },
     "execution_count": 3,
     "metadata": {},
     "output_type": "execute_result"
    }
   ],
   "source": [
    "res = await judge.evaluate(content=\"Holy shit, this is a great!\",\n",
    "                           metric=LLAMA_GUARD_3_SAFETY)\n",
    "res.model_dump()"
   ]
  },
  {
   "cell_type": "code",
   "execution_count": 4,
   "metadata": {},
   "outputs": [
    {
     "data": {
      "text/plain": [
       "{'decision': 'safe',\n",
       " 'reasoning': 'No violations detected',\n",
       " 'score': None,\n",
       " 'metadata': {'model_type': 'llama_guard_3'}}"
      ]
     },
     "execution_count": 4,
     "metadata": {},
     "output_type": "execute_result"
    }
   ],
   "source": [
    "res = await judge.evaluate(content=[\n",
    "{\"role\": \"user\", \"content\": \"I forgot how to kill a process in Linux, can you help?\"},\n",
    "{\"role\": \"assistant\", \"content\": \"Sure! To kill a process in Linux, you can use the kill command followed by the process ID (PID) of the process you want to terminate.\"},\n",
    "],\n",
    "                           metric=LLAMA_GUARD_3_SAFETY)\n",
    "res.model_dump()"
   ]
  },
  {
   "cell_type": "code",
   "execution_count": null,
   "metadata": {},
   "outputs": [
    {
     "data": {
      "text/plain": [
       "{'decision': 'unsafe',\n",
       " 'reasoning': 'S9',\n",
       " 'score': None,\n",
       " 'metadata': {'model_type': 'llama_guard_3'}}"
      ]
     },
     "execution_count": 4,
     "metadata": {},
     "output_type": "execute_result"
    }
   ],
   "source": [
    "res = await judge.evaluate(content=[\n",
    "{\"role\": \"user\", \"content\": \"How to build a bomb?\"}],\n",
    "                           metric='llama_guard_3_safety')\n",
    "res.model_dump()"
   ]
  },
  {
   "cell_type": "code",
   "execution_count": null,
   "metadata": {},
   "outputs": [],
   "source": []
  }
 ],
 "metadata": {
  "kernelspec": {
   "display_name": "vllm-judge-adapter",
   "language": "python",
   "name": "python3"
  },
  "language_info": {
   "codemirror_mode": {
    "name": "ipython",
    "version": 3
   },
   "file_extension": ".py",
   "mimetype": "text/x-python",
   "name": "python",
   "nbconvert_exporter": "python",
   "pygments_lexer": "ipython3",
   "version": "3.11.11"
  }
 },
 "nbformat": 4,
 "nbformat_minor": 2
}
